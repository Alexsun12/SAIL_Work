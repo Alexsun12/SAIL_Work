{
  "nbformat": 4,
  "nbformat_minor": 0,
  "metadata": {
    "colab": {
      "provenance": []
    },
    "kernelspec": {
      "name": "python3",
      "display_name": "Python 3"
    },
    "language_info": {
      "name": "python"
    }
  },
  "cells": [
    {
      "cell_type": "code",
      "source": [
        "import pandas as pd\n",
        "from sklearn.linear_model import LinearRegression\n",
        "from sklearn.model_selection import train_test_split\n",
        "\n",
        "# Load the \"19 Static Tremor Test2022-10-17 18_09_31.416514.csv\" file into a pandas DataFrame\n",
        "df = pd.read_csv('Static_Tremor_Test_example.CSV')\n",
        "\n",
        "# Select accelerometer and gyroscope readings as input features and target prediction\n",
        "features = ['Acc_x', 'Acc_y', 'Acc_z', 'Gyro_x', 'Gyro_y', 'Gyro_z']\n",
        "targets = ['Magnetic_x', 'Magnetic_y', 'Magnetic_z']\n",
        "\n",
        "# Split the data into training and testing sets\n",
        "X_train, X_test, y_train, y_test = train_test_split(df[features], df[targets], test_size=0.2, random_state=42)\n",
        "\n",
        "# Create and train separate linear regression models for each target variable\n",
        "models = []\n",
        "for i, target in enumerate(targets):\n",
        "    linreg = LinearRegression()\n",
        "    linreg.fit(X_train, y_train[target])\n",
        "    models.append(linreg)\n",
        "\n",
        "# Make predictions on the test set\n",
        "predictions = {}\n",
        "for i, target in enumerate(targets):\n",
        "    model = models[i]\n",
        "    predictions[target] = model.predict(X_test)\n",
        "\n",
        "# Evaluate the models using mse\n",
        "errors = {}\n",
        "for i, target in enumerate(targets):\n",
        "    model = models[i]\n",
        "    error = model.score(X_test, y_test[target])\n",
        "    errors[target] = error\n",
        "\n",
        "print(\"Model Errors:\", errors)\n"
      ],
      "metadata": {
        "colab": {
          "base_uri": "https://localhost:8080/"
        },
        "id": "CwrITe7h-92h",
        "outputId": "2b8ca0d2-668e-4ae7-9a41-92ff51203045"
      },
      "execution_count": 4,
      "outputs": [
        {
          "output_type": "stream",
          "name": "stdout",
          "text": [
            "Model Errors: {'Magnetic_x': 0.40872312090460683, 'Magnetic_y': 0.4206057833011734, 'Magnetic_z': -0.006587527559993367}\n"
          ]
        }
      ]
    },
    {
      "cell_type": "code",
      "source": [
        "from sklearn.metrics import r2_score\n",
        "from sklearn.tree import DecisionTreeRegressor\n",
        "# Use decision tree to predict (run a easy example to see each methods' R-square score, R-square is better when its larger, or when it approaches 0)\n",
        "# Use the same input features\n",
        "features = ['Acc_x', 'Acc_y', 'Acc_z', 'Gyro_x', 'Gyro_y', 'Gyro_z']\n",
        "targets = ['Magnetic_x', 'Magnetic_y', 'Magnetic_z']\n",
        "\n",
        "# Split the data into training and testing sets\n",
        "X_train, X_test, y_train, y_test = train_test_split(df[features], df[targets], test_size=0.2, random_state=42)\n",
        "\n",
        "# Create and train the decision tree regressor\n",
        "regressor = DecisionTreeRegressor(random_state=42)\n",
        "regressor.fit(X_train, y_train)\n",
        "\n",
        "# Make predictions on the test set\n",
        "predictions = regressor.predict(X_test)\n",
        "\n",
        "# Evaluate the model using R-squared score\n",
        "r2 = r2_score(y_test, predictions)\n",
        "print(\"R-squared score:\", r2)"
      ],
      "metadata": {
        "colab": {
          "base_uri": "https://localhost:8080/"
        },
        "id": "UCckTqBLhAxs",
        "outputId": "b455f692-2d70-4b5e-e729-ab6f96b3a72f"
      },
      "execution_count": 8,
      "outputs": [
        {
          "output_type": "stream",
          "name": "stdout",
          "text": [
            "R-squared score: 0.6438530457357807\n"
          ]
        }
      ]
    },
    {
      "cell_type": "code",
      "source": [
        "from sklearn.neighbors import KNeighborsRegressor\n",
        "#Using KNN regressor to train the data\n",
        "#Select the same features\n",
        "features = ['Acc_x', 'Acc_y', 'Acc_z', 'Gyro_x', 'Gyro_y', 'Gyro_z']\n",
        "targets = ['Magnetic_x', 'Magnetic_y', 'Magnetic_z']\n",
        "\n",
        "# Split the data into training and testing sets\n",
        "X_train, X_test, y_train, y_test = train_test_split(df[features], df[targets], test_size=0.2, random_state=42)\n",
        "\n",
        "# Create and train the KNN regressor\n",
        "regressor = KNeighborsRegressor(n_neighbors=5)\n",
        "regressor.fit(X_train, y_train)\n",
        "\n",
        "# Make predictions on the test set\n",
        "predictions = regressor.predict(X_test)\n",
        "\n",
        "# Evaluate the model using R-squared score\n",
        "r2 = r2_score(y_test, predictions)\n",
        "print(\"R-squared score:\", r2)"
      ],
      "metadata": {
        "colab": {
          "base_uri": "https://localhost:8080/"
        },
        "id": "xtZd79VKhBli",
        "outputId": "aa343b0d-1662-4e28-ebdb-9c130e0d90bf"
      },
      "execution_count": 5,
      "outputs": [
        {
          "output_type": "stream",
          "name": "stdout",
          "text": [
            "R-squared score: 0.3562023303735951\n"
          ]
        }
      ]
    },
    {
      "cell_type": "code",
      "source": [],
      "metadata": {
        "id": "fRCPCyxLShE0"
      },
      "execution_count": null,
      "outputs": []
    }
  ]
}